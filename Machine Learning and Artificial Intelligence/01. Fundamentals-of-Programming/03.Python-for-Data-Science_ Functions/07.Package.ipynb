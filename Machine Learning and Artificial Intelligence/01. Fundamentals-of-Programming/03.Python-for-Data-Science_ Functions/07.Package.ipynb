{
 "cells": [
  {
   "cell_type": "markdown",
   "id": "859c2d71",
   "metadata": {},
   "source": [
    "## Package"
   ]
  },
  {
   "cell_type": "markdown",
   "id": "3f8f4461",
   "metadata": {},
   "source": [
    "Packages are a way of structuring Python’s module namespace by using “dotted module names”.\n",
    "\n",
    "A directory must contain a file named init.py in order for Python to consider it as a package. This file can be left empty but we generally place the initialization code for that package in this file."
   ]
  },
  {
   "cell_type": "markdown",
   "id": "8ff85f1e",
   "metadata": {},
   "source": [
    "## importing module from a package"
   ]
  },
  {
   "cell_type": "markdown",
   "id": "e7e20633",
   "metadata": {},
   "source": [
    "we can import modules from packages using the dot(.) operator"
   ]
  },
  {
   "cell_type": "code",
   "execution_count": 1,
   "id": "1027384f",
   "metadata": {},
   "outputs": [],
   "source": [
    "# import ai.image.open"
   ]
  },
  {
   "cell_type": "code",
   "execution_count": null,
   "id": "c90008bd",
   "metadata": {},
   "outputs": [],
   "source": []
  }
 ],
 "metadata": {
  "kernelspec": {
   "display_name": "Python 3",
   "language": "python",
   "name": "python3"
  },
  "language_info": {
   "codemirror_mode": {
    "name": "ipython",
    "version": 3
   },
   "file_extension": ".py",
   "mimetype": "text/x-python",
   "name": "python",
   "nbconvert_exporter": "python",
   "pygments_lexer": "ipython3",
   "version": "3.8.10"
  }
 },
 "nbformat": 4,
 "nbformat_minor": 5
}
