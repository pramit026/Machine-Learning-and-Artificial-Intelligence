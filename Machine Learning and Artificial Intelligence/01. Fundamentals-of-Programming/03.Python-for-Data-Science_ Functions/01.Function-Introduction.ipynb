{
 "cells": [
  {
   "cell_type": "markdown",
   "id": "8e8cb900",
   "metadata": {},
   "source": [
    "## Example "
   ]
  },
  {
   "cell_type": "code",
   "execution_count": 1,
   "id": "59e69334",
   "metadata": {},
   "outputs": [],
   "source": [
    "def printName(name):\n",
    "    \"\"\"This function prints name\"\"\"\n",
    "    return (\"Hello \"+str(name))"
   ]
  },
  {
   "cell_type": "markdown",
   "id": "1e9c822e",
   "metadata": {},
   "source": [
    "## Function Call"
   ]
  },
  {
   "cell_type": "code",
   "execution_count": 2,
   "id": "f782afbd",
   "metadata": {},
   "outputs": [
    {
     "data": {
      "text/plain": [
       "'Hello Pramit'"
      ]
     },
     "execution_count": 2,
     "metadata": {},
     "output_type": "execute_result"
    }
   ],
   "source": [
    "printName(\"Pramit\")"
   ]
  },
  {
   "cell_type": "markdown",
   "id": "be03067f",
   "metadata": {},
   "source": [
    "## Doc String"
   ]
  },
  {
   "cell_type": "code",
   "execution_count": 3,
   "id": "3bd2f4ae",
   "metadata": {},
   "outputs": [
    {
     "name": "stdout",
     "output_type": "stream",
     "text": [
      "This function prints name\n"
     ]
    }
   ],
   "source": [
    "print(printName.__doc__)"
   ]
  },
  {
   "cell_type": "markdown",
   "id": "1073a9e9",
   "metadata": {},
   "source": [
    "## return Statement"
   ]
  },
  {
   "cell_type": "code",
   "execution_count": 4,
   "id": "822d60d2",
   "metadata": {},
   "outputs": [],
   "source": [
    "def get_sum(lst):\n",
    "    \"this function returns the sum of all number in the list\"\n",
    "    _sum = 0\n",
    "    \n",
    "    for num in lst:\n",
    "        _sum += num\n",
    "    return _sum"
   ]
  },
  {
   "cell_type": "code",
   "execution_count": 6,
   "id": "6a60992a",
   "metadata": {},
   "outputs": [
    {
     "name": "stdout",
     "output_type": "stream",
     "text": [
      "10\n"
     ]
    }
   ],
   "source": [
    "s = get_sum([1,2,3,4])\n",
    "print(s)"
   ]
  },
  {
   "cell_type": "code",
   "execution_count": 7,
   "id": "7435349d",
   "metadata": {},
   "outputs": [
    {
     "name": "stdout",
     "output_type": "stream",
     "text": [
      "this function returns the sum of all number in the list\n"
     ]
    }
   ],
   "source": [
    "# print doc string\n",
    "print(get_sum.__doc__)"
   ]
  },
  {
   "cell_type": "markdown",
   "id": "8ad90117",
   "metadata": {},
   "source": [
    "## Scope and Life Time of Variables"
   ]
  },
  {
   "cell_type": "code",
   "execution_count": 11,
   "id": "5b30c890",
   "metadata": {},
   "outputs": [
    {
     "name": "stdout",
     "output_type": "stream",
     "text": [
      "This is local variable\n",
      "This is global variable\n",
      "This is global variable\n"
     ]
    },
    {
     "ename": "NameError",
     "evalue": "name 'local_var' is not defined",
     "output_type": "error",
     "traceback": [
      "\u001b[1;31m---------------------------------------------------------------------------\u001b[0m",
      "\u001b[1;31mNameError\u001b[0m                                 Traceback (most recent call last)",
      "\u001b[1;32m<ipython-input-11-ed5e57568260>\u001b[0m in \u001b[0;36m<module>\u001b[1;34m\u001b[0m\n\u001b[0;32m     18\u001b[0m \u001b[1;33m\u001b[0m\u001b[0m\n\u001b[0;32m     19\u001b[0m \u001b[1;31m# here local var is not available so it will give an error\u001b[0m\u001b[1;33m\u001b[0m\u001b[1;33m\u001b[0m\u001b[1;33m\u001b[0m\u001b[0m\n\u001b[1;32m---> 20\u001b[1;33m \u001b[0mprint\u001b[0m\u001b[1;33m(\u001b[0m\u001b[0mlocal_var\u001b[0m\u001b[1;33m)\u001b[0m\u001b[1;33m\u001b[0m\u001b[1;33m\u001b[0m\u001b[0m\n\u001b[0m",
      "\u001b[1;31mNameError\u001b[0m: name 'local_var' is not defined"
     ]
    }
   ],
   "source": [
    "global_var = \"This is global variable\"\n",
    "\n",
    "def test_life_time():\n",
    "    \"\"\"\n",
    "    This function test the life time of a variables\n",
    "    \"\"\"\n",
    "    local_var = \"This is local variable\"\n",
    "    print(local_var)\n",
    "    print(global_var)\n",
    "    \n",
    "    \n",
    "\n",
    "# calling function\n",
    "test_life_time()\n",
    "\n",
    "# print global variable \n",
    "print(global_var)\n",
    "\n",
    "# here local var is not available so it will give an error\n",
    "print(local_var)"
   ]
  },
  {
   "cell_type": "markdown",
   "id": "d4896736",
   "metadata": {},
   "source": [
    "## Python program to print Highest Common Factor (HCF) of two numbers"
   ]
  },
  {
   "cell_type": "code",
   "execution_count": 13,
   "id": "6ae99d20",
   "metadata": {},
   "outputs": [
    {
     "name": "stdout",
     "output_type": "stream",
     "text": [
      "HCF of 6 and 36 is: 6\n"
     ]
    }
   ],
   "source": [
    "def computeHCF(a,b):\n",
    "    \"\"\"\n",
    "    Computes HCF of two numbers\n",
    "    \"\"\"\n",
    "    smaller = b if b < a else a\n",
    "    \n",
    "    hcf = 1\n",
    "    for i in range(1,smaller+1):\n",
    "        if(a % i == 0) and (b % i == 0):\n",
    "            hcf = i\n",
    "    return hcf\n",
    "\n",
    "num1 = 6\n",
    "num2 = 36\n",
    "\n",
    "print(\"HCF of {0} and {1} is: {2}\".format(num1,num2,computeHCF(num1,num2)))"
   ]
  },
  {
   "cell_type": "code",
   "execution_count": null,
   "id": "211e0bb6",
   "metadata": {},
   "outputs": [],
   "source": []
  }
 ],
 "metadata": {
  "kernelspec": {
   "display_name": "Python 3",
   "language": "python",
   "name": "python3"
  },
  "language_info": {
   "codemirror_mode": {
    "name": "ipython",
    "version": 3
   },
   "file_extension": ".py",
   "mimetype": "text/x-python",
   "name": "python",
   "nbconvert_exporter": "python",
   "pygments_lexer": "ipython3",
   "version": "3.8.10"
  }
 },
 "nbformat": 4,
 "nbformat_minor": 5
}
