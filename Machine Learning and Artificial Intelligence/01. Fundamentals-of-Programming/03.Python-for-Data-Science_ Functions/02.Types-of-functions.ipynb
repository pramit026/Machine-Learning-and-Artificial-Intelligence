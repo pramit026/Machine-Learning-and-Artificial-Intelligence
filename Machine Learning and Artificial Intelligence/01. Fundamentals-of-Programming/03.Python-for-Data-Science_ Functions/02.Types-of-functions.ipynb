{
 "cells": [
  {
   "cell_type": "markdown",
   "id": "da420d3b",
   "metadata": {},
   "source": [
    "## Built in Function"
   ]
  },
  {
   "cell_type": "markdown",
   "id": "f1e9118a",
   "metadata": {},
   "source": [
    "### 1. abs()"
   ]
  },
  {
   "cell_type": "code",
   "execution_count": 1,
   "id": "1d006a7e",
   "metadata": {},
   "outputs": [
    {
     "name": "stdout",
     "output_type": "stream",
     "text": [
      "100\n"
     ]
    }
   ],
   "source": [
    "num = - 100\n",
    "print(abs(num))"
   ]
  },
  {
   "cell_type": "markdown",
   "id": "319c458c",
   "metadata": {},
   "source": [
    "### 2. all()"
   ]
  },
  {
   "cell_type": "markdown",
   "id": "a20a7951",
   "metadata": {},
   "source": [
    "#return value of all() function\n",
    "\n",
    "True: if all elements in an iterable are true\n",
    "\n",
    "False: if any element in an iterable is false"
   ]
  },
  {
   "cell_type": "code",
   "execution_count": 3,
   "id": "feda6353",
   "metadata": {},
   "outputs": [
    {
     "name": "stdout",
     "output_type": "stream",
     "text": [
      "True\n"
     ]
    }
   ],
   "source": [
    "lst = [1,2,3,4]\n",
    "print(all(lst))"
   ]
  },
  {
   "cell_type": "code",
   "execution_count": 4,
   "id": "a0b51f30",
   "metadata": {},
   "outputs": [
    {
     "name": "stdout",
     "output_type": "stream",
     "text": [
      "False\n"
     ]
    }
   ],
   "source": [
    "li = [0,2,3,4]  # 0 is present in list\n",
    "print(all(li))"
   ]
  },
  {
   "cell_type": "code",
   "execution_count": 5,
   "id": "c6efb4f4",
   "metadata": {},
   "outputs": [
    {
     "name": "stdout",
     "output_type": "stream",
     "text": [
      "True\n"
     ]
    }
   ],
   "source": [
    "li = []\n",
    "print(all(li))"
   ]
  },
  {
   "cell_type": "code",
   "execution_count": 6,
   "id": "bf71faf5",
   "metadata": {},
   "outputs": [
    {
     "name": "stdout",
     "output_type": "stream",
     "text": [
      "False\n"
     ]
    }
   ],
   "source": [
    "lst = [False,1,2]\n",
    "print(all(lst))"
   ]
  },
  {
   "cell_type": "markdown",
   "id": "22a93ce7",
   "metadata": {},
   "source": [
    "### 3. dir()"
   ]
  },
  {
   "cell_type": "code",
   "execution_count": 7,
   "id": "87edb95d",
   "metadata": {},
   "outputs": [
    {
     "name": "stdout",
     "output_type": "stream",
     "text": [
      "['__add__', '__class__', '__contains__', '__delattr__', '__delitem__', '__dir__', '__doc__', '__eq__', '__format__', '__ge__', '__getattribute__', '__getitem__', '__gt__', '__hash__', '__iadd__', '__imul__', '__init__', '__init_subclass__', '__iter__', '__le__', '__len__', '__lt__', '__mul__', '__ne__', '__new__', '__reduce__', '__reduce_ex__', '__repr__', '__reversed__', '__rmul__', '__setattr__', '__setitem__', '__sizeof__', '__str__', '__subclasshook__', 'append', 'clear', 'copy', 'count', 'extend', 'index', 'insert', 'pop', 'remove', 'reverse', 'sort']\n"
     ]
    }
   ],
   "source": [
    "# The dir() tries to return a list of valid attributes of the object.\n",
    "\n",
    "numbers = [1,2,3]\n",
    "print(dir(numbers))"
   ]
  },
  {
   "cell_type": "markdown",
   "id": "0ce98e40",
   "metadata": {},
   "source": [
    "### 4. divmod()"
   ]
  },
  {
   "cell_type": "code",
   "execution_count": 9,
   "id": "98b50263",
   "metadata": {},
   "outputs": [
    {
     "name": "stdout",
     "output_type": "stream",
     "text": [
      "(4, 1)\n"
     ]
    }
   ],
   "source": [
    "print(divmod(9,2))  # print quotient and remainder as a tuple"
   ]
  },
  {
   "cell_type": "code",
   "execution_count": 10,
   "id": "0e50c576",
   "metadata": {},
   "outputs": [
    {
     "name": "stdout",
     "output_type": "stream",
     "text": [
      "(1, 1)\n"
     ]
    }
   ],
   "source": [
    "print(divmod(6,5))"
   ]
  },
  {
   "cell_type": "markdown",
   "id": "e32cec27",
   "metadata": {},
   "source": [
    "### 5. enumerate()"
   ]
  },
  {
   "cell_type": "markdown",
   "id": "11125f47",
   "metadata": {},
   "source": [
    "The enumerate() method adds counter to an iterable and returns it \n",
    "\n",
    "syntax: enumerate(iterable, start=0)"
   ]
  },
  {
   "cell_type": "code",
   "execution_count": 11,
   "id": "96b01088",
   "metadata": {},
   "outputs": [
    {
     "name": "stdout",
     "output_type": "stream",
     "text": [
      "index 10 has value 10\n",
      "index 11 has value 20\n",
      "index 12 has value 30\n",
      "index 13 has value 40\n"
     ]
    }
   ],
   "source": [
    "numbers = [10,20,30,40]\n",
    "\n",
    "for index,num in enumerate(numbers,10):\n",
    "    print(\"index {0} has value {1}\".format(index,num))"
   ]
  },
  {
   "cell_type": "markdown",
   "id": "ec9b9a4a",
   "metadata": {},
   "source": [
    "### 6. filter()"
   ]
  },
  {
   "cell_type": "markdown",
   "id": "2eb13442",
   "metadata": {},
   "source": [
    "The filter() method constructs an iterator from elements of an iterable for which a function returns true.\n",
    "\n",
    "syntax: filter(function, iterable)"
   ]
  },
  {
   "cell_type": "code",
   "execution_count": 14,
   "id": "aa195cda",
   "metadata": {},
   "outputs": [],
   "source": [
    "def find_positive_number(num):\n",
    "    \"\"\"This function returns the positive number if the number is positive\"\"\"\n",
    "    if num > 0:\n",
    "        return num"
   ]
  },
  {
   "cell_type": "code",
   "execution_count": 16,
   "id": "7f8984ba",
   "metadata": {},
   "outputs": [
    {
     "name": "stdout",
     "output_type": "stream",
     "text": [
      "[-10, -9, -8, -7, -6, -5, -4, -3, -2, -1, 0, 1, 2, 3, 4, 5, 6, 7, 8, 9]\n",
      "[1, 2, 3, 4, 5, 6, 7, 8, 9]\n"
     ]
    }
   ],
   "source": [
    "number_list = range(-10,10) # create a list with numbers from -10 to 10\n",
    "print(list(number_list))\n",
    "\n",
    "positive_num_list = list(filter(find_positive_number,number_list))\n",
    "\n",
    "print(positive_num_list)"
   ]
  },
  {
   "cell_type": "markdown",
   "id": "a66289ec",
   "metadata": {},
   "source": [
    "### 7. isinstance()"
   ]
  },
  {
   "cell_type": "markdown",
   "id": "0453d8c8",
   "metadata": {},
   "source": [
    "The isinstance() function checks if the object (first argument) is an instance or subclass of classinfo class (second argument).\n",
    "\n",
    "syntax: isinstance(object, classinfo)"
   ]
  },
  {
   "cell_type": "code",
   "execution_count": 17,
   "id": "3bc110c0",
   "metadata": {},
   "outputs": [
    {
     "name": "stdout",
     "output_type": "stream",
     "text": [
      "True\n"
     ]
    }
   ],
   "source": [
    "lst = [1,2,3,4]\n",
    "\n",
    "print(isinstance(lst,list))"
   ]
  },
  {
   "cell_type": "code",
   "execution_count": 18,
   "id": "c20ba3c6",
   "metadata": {},
   "outputs": [
    {
     "name": "stdout",
     "output_type": "stream",
     "text": [
      "False\n"
     ]
    }
   ],
   "source": [
    "t = (1,2,3,4)\n",
    "print(isinstance(t,list))"
   ]
  },
  {
   "cell_type": "code",
   "execution_count": 19,
   "id": "e35b8b9d",
   "metadata": {},
   "outputs": [
    {
     "name": "stdout",
     "output_type": "stream",
     "text": [
      "True\n"
     ]
    }
   ],
   "source": [
    "t = {1,2,3,4}\n",
    "print(isinstance(t,set))"
   ]
  },
  {
   "cell_type": "markdown",
   "id": "8069a1b1",
   "metadata": {},
   "source": [
    "### 8. map()"
   ]
  },
  {
   "cell_type": "markdown",
   "id": "3e3265dd",
   "metadata": {},
   "source": [
    "Map applies a function to all the items in an input_list.\n",
    "\n",
    "syntax: map(function_to_apply, list_of_inputs)"
   ]
  },
  {
   "cell_type": "code",
   "execution_count": 22,
   "id": "b8a5813d",
   "metadata": {},
   "outputs": [
    {
     "name": "stdout",
     "output_type": "stream",
     "text": [
      "[1, 4, 9, 16]\n"
     ]
    }
   ],
   "source": [
    "numbers = [1, 2, 3, 4]\n",
    "\n",
    "#normal method of computing num^2 for each element in the list.\n",
    "squared = []\n",
    "\n",
    "for num in numbers:\n",
    "    squared.append(num ** 2)\n",
    "    \n",
    "print(squared)"
   ]
  },
  {
   "cell_type": "code",
   "execution_count": 23,
   "id": "ea78e677",
   "metadata": {},
   "outputs": [
    {
     "name": "stdout",
     "output_type": "stream",
     "text": [
      "[1, 4, 9, 16]\n"
     ]
    }
   ],
   "source": [
    "numbers = [1,2,3,4]\n",
    "\n",
    "def powOfTwo(num):\n",
    "    return num ** 2\n",
    "\n",
    "# using map() function\n",
    "squared = list(map(powOfTwo,numbers))\n",
    "print(squared)"
   ]
  },
  {
   "cell_type": "markdown",
   "id": "917a27f5",
   "metadata": {},
   "source": [
    "### 9. reduce()"
   ]
  },
  {
   "cell_type": "markdown",
   "id": "020bed90",
   "metadata": {},
   "source": [
    "reduce() function is for performing some computation on a list and returning the result.\n",
    "\n",
    "It applies a rolling computation to sequential pairs of values in a list."
   ]
  },
  {
   "cell_type": "code",
   "execution_count": 24,
   "id": "2e96beb2",
   "metadata": {},
   "outputs": [
    {
     "name": "stdout",
     "output_type": "stream",
     "text": [
      "24\n"
     ]
    }
   ],
   "source": [
    "# product of elements in a list\n",
    "product = 1\n",
    "lst = [1,2,3,4]\n",
    "\n",
    "for num in lst:\n",
    "    product *= num\n",
    "print(product)"
   ]
  },
  {
   "cell_type": "code",
   "execution_count": 25,
   "id": "7b19fe9d",
   "metadata": {},
   "outputs": [
    {
     "name": "stdout",
     "output_type": "stream",
     "text": [
      "24\n"
     ]
    }
   ],
   "source": [
    "# with reduce()\n",
    "from functools import reduce \n",
    "\n",
    "def multiply(x,y):\n",
    "    return x*y\n",
    "\n",
    "product = reduce(multiply,lst)\n",
    "print(product)"
   ]
  },
  {
   "cell_type": "markdown",
   "id": "d489adce",
   "metadata": {},
   "source": [
    "## User Defined Functions"
   ]
  },
  {
   "cell_type": "code",
   "execution_count": 29,
   "id": "fad57b42",
   "metadata": {},
   "outputs": [
    {
     "name": "stdout",
     "output_type": "stream",
     "text": [
      "Product of 10 and 20 is 200\n"
     ]
    }
   ],
   "source": [
    "def product_numbers(a,b):\n",
    "    \"\"\"This function returns the product of two numbers\"\"\"\n",
    "    \n",
    "    product = a * b\n",
    "    return product\n",
    "\n",
    "num1 = 10\n",
    "num2 = 20\n",
    "print(\"Product of {0} and {1} is {2}\".format(num1,num2,product_numbers(num1,num2)))"
   ]
  },
  {
   "cell_type": "markdown",
   "id": "d1508d49",
   "metadata": {},
   "source": [
    "## Python program to make a simple calculator that can add, subtract, multiply and division"
   ]
  },
  {
   "cell_type": "code",
   "execution_count": 30,
   "id": "58a90cbb",
   "metadata": {},
   "outputs": [
    {
     "name": "stdout",
     "output_type": "stream",
     "text": [
      "Select Option\n",
      "1. Addition\n",
      "2. Subtraction\n",
      "3. Multiplication\n",
      "4. Division\n",
      "Enter choice 1/2/3/41\n",
      "Enter first number:6\n",
      "Enter second number:6\n",
      "Addition of 6.0 and 6.0 is 12.0\n"
     ]
    }
   ],
   "source": [
    "def add(a, b):\n",
    "    \"\"\"\n",
    "    This function adds two numbers\n",
    "    \"\"\"\n",
    "    return a + b\n",
    "\n",
    "def multiply(a, b):\n",
    "    \"\"\"\n",
    "    This function multiply two numbers\n",
    "    \"\"\"\n",
    "    return a * b\n",
    "\n",
    "def subtract(a, b):\n",
    "    \"\"\"\n",
    "    This function subtract two numbers\n",
    "    \"\"\"\n",
    "    return a - b\n",
    "\n",
    "def division(a, b):\n",
    "    \"\"\"\n",
    "    This function divides two numbers\n",
    "    \"\"\"\n",
    "    return a / b\n",
    "\n",
    "print(\"Select Option\")\n",
    "print(\"1. Addition\")\n",
    "print (\"2. Subtraction\")\n",
    "print (\"3. Multiplication\")\n",
    "print (\"4. Division\")\n",
    "\n",
    "#take input from user\n",
    "choice = int(input(\"Enter choice 1/2/3/4\"))\n",
    "\n",
    "num1 = float(input(\"Enter first number:\"))\n",
    "num2 = float(input(\"Enter second number:\"))\n",
    "if choice == 1:\n",
    "    print(\"Addition of {0} and {1} is {2}\".format(num1, num2, add(num1, num2)))\n",
    "elif choice == 2:\n",
    "    print(\"Subtraction of {0} and {1} is {2}\".format(num1, num2, subtract(num1, num2)))\n",
    "elif choice == 3:\n",
    "    print(\"Multiplication of {0} and {1} is {2}\".format(num1, num2, multiply(num1, num2)))\n",
    "elif choice == 4:\n",
    "    print(\"Division of {0} and {1} is {2}\".format(num1, num2, division(num1, num2)))\n",
    "else:\n",
    "    print(\"Invalid Choice\")"
   ]
  },
  {
   "cell_type": "code",
   "execution_count": null,
   "id": "ccc2aa8a",
   "metadata": {},
   "outputs": [],
   "source": []
  }
 ],
 "metadata": {
  "kernelspec": {
   "display_name": "Python 3",
   "language": "python",
   "name": "python3"
  },
  "language_info": {
   "codemirror_mode": {
    "name": "ipython",
    "version": 3
   },
   "file_extension": ".py",
   "mimetype": "text/x-python",
   "name": "python",
   "nbconvert_exporter": "python",
   "pygments_lexer": "ipython3",
   "version": "3.8.10"
  }
 },
 "nbformat": 4,
 "nbformat_minor": 5
}
