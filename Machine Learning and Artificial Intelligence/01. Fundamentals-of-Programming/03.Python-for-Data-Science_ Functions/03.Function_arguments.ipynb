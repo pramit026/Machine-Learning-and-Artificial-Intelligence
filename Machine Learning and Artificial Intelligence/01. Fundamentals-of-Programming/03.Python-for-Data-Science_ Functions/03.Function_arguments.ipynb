{
 "cells": [
  {
   "cell_type": "code",
   "execution_count": 1,
   "id": "82dda29f",
   "metadata": {},
   "outputs": [
    {
     "name": "stdout",
     "output_type": "stream",
     "text": [
      "Hello Pramit,Good morning\n"
     ]
    }
   ],
   "source": [
    "def greet(name,msg):\n",
    "    \"\"\"\n",
    "    This function greets to person with the provided message\n",
    "    \"\"\"\n",
    "    print(\"Hello {0},{1}\".format(name,msg))\n",
    "    \n",
    "greet(\"Pramit\",\"Good morning\")"
   ]
  },
  {
   "cell_type": "markdown",
   "id": "50e93359",
   "metadata": {},
   "source": [
    "## Different Forms of Arguments"
   ]
  },
  {
   "cell_type": "markdown",
   "id": "a6091d1f",
   "metadata": {},
   "source": [
    "### 1. Default Arguments"
   ]
  },
  {
   "cell_type": "code",
   "execution_count": 3,
   "id": "69e66e98",
   "metadata": {},
   "outputs": [
    {
     "name": "stdout",
     "output_type": "stream",
     "text": [
      "Hello Pramit , Good Night\n"
     ]
    }
   ],
   "source": [
    "def greet(name, msg=\"Good Morning\"):\n",
    "    \"\"\"\n",
    "    This function greets to person with the provided message\n",
    "    if message is not provided, it defaults to \"Good Morning\"\n",
    "    \"\"\"\n",
    "    print(\"Hello {0} , {1}\".format(name, msg))\n",
    "\n",
    "greet(\"Pramit\", \"Good Night\")\n"
   ]
  },
  {
   "cell_type": "code",
   "execution_count": 7,
   "id": "8dd1fc8f",
   "metadata": {},
   "outputs": [
    {
     "name": "stdout",
     "output_type": "stream",
     "text": [
      "Hello Pramit , Good Morning\n"
     ]
    }
   ],
   "source": [
    "greet('Pramit')"
   ]
  },
  {
   "cell_type": "markdown",
   "id": "6acda845",
   "metadata": {},
   "source": [
    "### 2. Keyword Arguments"
   ]
  },
  {
   "cell_type": "code",
   "execution_count": 9,
   "id": "7fd5381c",
   "metadata": {},
   "outputs": [
    {
     "name": "stdout",
     "output_type": "stream",
     "text": [
      "Hello Pramit , Good Morning\n"
     ]
    }
   ],
   "source": [
    "def greet(**kwargs):\n",
    "    \"\"\"\n",
    "    This function greets to person with the provided message\n",
    "    \"\"\"\n",
    "    if kwargs:\n",
    "        print(\"Hello {0} , {1}\".format(kwargs['name'],kwargs['message']))\n",
    "\n",
    "greet(name='Pramit', message = \"Good Morning\")"
   ]
  },
  {
   "cell_type": "markdown",
   "id": "43cd602b",
   "metadata": {},
   "source": [
    "### 3. Arbitary Arguments"
   ]
  },
  {
   "cell_type": "code",
   "execution_count": 10,
   "id": "bf40f3af",
   "metadata": {},
   "outputs": [
    {
     "name": "stdout",
     "output_type": "stream",
     "text": [
      "('Pramit', 'Shirsendu', 'Rajesh')\n",
      "Hello, Pramit\n",
      "Hello, Shirsendu\n",
      "Hello, Rajesh\n"
     ]
    }
   ],
   "source": [
    "def greet(*names):\n",
    "    \"\"\"\n",
    "    This function greets all persons in the names tuple\n",
    "    \"\"\"\n",
    "    print(names)\n",
    "    \n",
    "    for name in names:\n",
    "        print(\"Hello, {0}\".format(name))\n",
    "        \n",
    "greet(\"Pramit\",\"Shirsendu\",\"Rajesh\")"
   ]
  },
  {
   "cell_type": "code",
   "execution_count": null,
   "id": "0f62b64d",
   "metadata": {},
   "outputs": [],
   "source": []
  }
 ],
 "metadata": {
  "kernelspec": {
   "display_name": "Python 3",
   "language": "python",
   "name": "python3"
  },
  "language_info": {
   "codemirror_mode": {
    "name": "ipython",
    "version": 3
   },
   "file_extension": ".py",
   "mimetype": "text/x-python",
   "name": "python",
   "nbconvert_exporter": "python",
   "pygments_lexer": "ipython3",
   "version": "3.8.10"
  }
 },
 "nbformat": 4,
 "nbformat_minor": 5
}
