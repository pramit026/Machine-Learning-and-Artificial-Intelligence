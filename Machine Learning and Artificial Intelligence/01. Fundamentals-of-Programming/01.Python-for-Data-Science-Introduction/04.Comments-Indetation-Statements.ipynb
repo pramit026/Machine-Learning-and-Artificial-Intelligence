{
 "cells": [
  {
   "cell_type": "markdown",
   "id": "942e6e2e",
   "metadata": {},
   "source": [
    "# Python Comments"
   ]
  },
  {
   "cell_type": "code",
   "execution_count": 1,
   "id": "acd01491",
   "metadata": {},
   "outputs": [
    {
     "name": "stdout",
     "output_type": "stream",
     "text": [
      "Hello world\n"
     ]
    }
   ],
   "source": [
    "# print hello world\n",
    "print(\"Hello world\")"
   ]
  },
  {
   "cell_type": "markdown",
   "id": "76677513",
   "metadata": {},
   "source": [
    "# Multiline Comments"
   ]
  },
  {
   "cell_type": "code",
   "execution_count": 2,
   "id": "ac13ce98",
   "metadata": {},
   "outputs": [],
   "source": [
    "# this is \n",
    "# a multiline\n",
    "# comment\n"
   ]
  },
  {
   "cell_type": "code",
   "execution_count": 3,
   "id": "8447d8b9",
   "metadata": {},
   "outputs": [
    {
     "data": {
      "text/plain": [
       "'This is a \\nperfect example\\nmultiline comment'"
      ]
     },
     "execution_count": 3,
     "metadata": {},
     "output_type": "execute_result"
    }
   ],
   "source": [
    "\"\"\"This is a \n",
    "perfect example\n",
    "multiline comment\"\"\""
   ]
  },
  {
   "cell_type": "markdown",
   "id": "2ef0673d",
   "metadata": {},
   "source": [
    "# DocString in Python"
   ]
  },
  {
   "cell_type": "code",
   "execution_count": 5,
   "id": "2b0b32e6",
   "metadata": {},
   "outputs": [
    {
     "name": "stdout",
     "output_type": "stream",
     "text": [
      "6\n"
     ]
    }
   ],
   "source": [
    "def double(num):\n",
    "    \"\"\"\n",
    "    function to double the number\n",
    "    \"\"\"\n",
    "    return num * 2\n",
    "\n",
    "print(double(3))"
   ]
  },
  {
   "cell_type": "code",
   "execution_count": 8,
   "id": "97e5be43",
   "metadata": {},
   "outputs": [
    {
     "name": "stdout",
     "output_type": "stream",
     "text": [
      "\n",
      "    function to double the number\n",
      "    \n"
     ]
    }
   ],
   "source": [
    "print(double.__doc__)"
   ]
  },
  {
   "cell_type": "markdown",
   "id": "2a501796",
   "metadata": {},
   "source": [
    "# Python Identation"
   ]
  },
  {
   "cell_type": "code",
   "execution_count": 9,
   "id": "d538184e",
   "metadata": {},
   "outputs": [
    {
     "name": "stdout",
     "output_type": "stream",
     "text": [
      "0\n",
      "1\n",
      "2\n",
      "3\n",
      "4\n",
      "5\n",
      "6\n",
      "7\n",
      "8\n",
      "9\n"
     ]
    }
   ],
   "source": [
    "for i in range(10):\n",
    "    print(i)"
   ]
  },
  {
   "cell_type": "code",
   "execution_count": 10,
   "id": "a2c44072",
   "metadata": {},
   "outputs": [
    {
     "name": "stdout",
     "output_type": "stream",
     "text": [
      "ML\n"
     ]
    }
   ],
   "source": [
    "if True:\n",
    "    print(\"ML\")\n",
    "    c = \"AI\""
   ]
  },
  {
   "cell_type": "code",
   "execution_count": 11,
   "id": "a6c4e3c9",
   "metadata": {},
   "outputs": [
    {
     "name": "stdout",
     "output_type": "stream",
     "text": [
      "ML\n"
     ]
    }
   ],
   "source": [
    "if True: print(\"ML\");c = \"AI\""
   ]
  },
  {
   "cell_type": "markdown",
   "id": "7c6481ba",
   "metadata": {},
   "source": [
    "# Python Statement"
   ]
  },
  {
   "cell_type": "code",
   "execution_count": 12,
   "id": "8885a301",
   "metadata": {},
   "outputs": [],
   "source": [
    "a = 1 # single statement"
   ]
  },
  {
   "cell_type": "markdown",
   "id": "9d5958b4",
   "metadata": {},
   "source": [
    "# Multiline Statement"
   ]
  },
  {
   "cell_type": "code",
   "execution_count": 13,
   "id": "9a06f12d",
   "metadata": {},
   "outputs": [],
   "source": [
    "a = 1 + 2 + 3 + \\\n",
    "    4 + 5 + 6 + \\\n",
    "    7 + 8"
   ]
  },
  {
   "cell_type": "code",
   "execution_count": 14,
   "id": "61c8c72a",
   "metadata": {},
   "outputs": [
    {
     "name": "stdout",
     "output_type": "stream",
     "text": [
      "36\n"
     ]
    }
   ],
   "source": [
    "print(a)"
   ]
  },
  {
   "cell_type": "code",
   "execution_count": 15,
   "id": "bdd5e5e5",
   "metadata": {},
   "outputs": [],
   "source": [
    "# another way is \n",
    "a = (1 + 2 + 3 + \n",
    "    4 + 5 + 6 + \n",
    "    7 + 8)"
   ]
  },
  {
   "cell_type": "code",
   "execution_count": 16,
   "id": "4aa567c2",
   "metadata": {},
   "outputs": [
    {
     "name": "stdout",
     "output_type": "stream",
     "text": [
      "36\n"
     ]
    }
   ],
   "source": [
    "print(a)"
   ]
  },
  {
   "cell_type": "code",
   "execution_count": 17,
   "id": "2e20cea3",
   "metadata": {},
   "outputs": [],
   "source": [
    "a = 10 ; b = 20 ; c = 30  # multiple statements in a single line"
   ]
  },
  {
   "cell_type": "code",
   "execution_count": null,
   "id": "0422b1ea",
   "metadata": {},
   "outputs": [],
   "source": []
  }
 ],
 "metadata": {
  "kernelspec": {
   "display_name": "Python 3",
   "language": "python",
   "name": "python3"
  },
  "language_info": {
   "codemirror_mode": {
    "name": "ipython",
    "version": 3
   },
   "file_extension": ".py",
   "mimetype": "text/x-python",
   "name": "python",
   "nbconvert_exporter": "python",
   "pygments_lexer": "ipython3",
   "version": "3.8.10"
  }
 },
 "nbformat": 4,
 "nbformat_minor": 5
}
