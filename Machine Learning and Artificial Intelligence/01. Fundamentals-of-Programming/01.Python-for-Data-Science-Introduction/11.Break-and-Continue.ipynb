{
 "cells": [
  {
   "cell_type": "code",
   "execution_count": 1,
   "id": "a1358fef",
   "metadata": {},
   "outputs": [
    {
     "name": "stdout",
     "output_type": "stream",
     "text": [
      "1\n",
      "2\n",
      "3\n",
      "Outsider of for loop\n"
     ]
    }
   ],
   "source": [
    "numbers = [1,2,3,4]\n",
    "for num in numbers:\n",
    "    if num == 4:\n",
    "        break\n",
    "    print(num)\n",
    "else:\n",
    "    print(\"in the else block\")\n",
    "print(\"Outsider of for loop\")"
   ]
  },
  {
   "cell_type": "markdown",
   "id": "e24976d3",
   "metadata": {},
   "source": [
    "## Python Program to check given number is Prime number or not (using break)"
   ]
  },
  {
   "cell_type": "code",
   "execution_count": 2,
   "id": "0cb4ac1d",
   "metadata": {},
   "outputs": [
    {
     "name": "stdout",
     "output_type": "stream",
     "text": [
      "Enter a number: 5\n",
      "5 is a prime no\n"
     ]
    }
   ],
   "source": [
    "num = int(input(\"Enter a number: \"))\n",
    "\n",
    "isDivisible = False\n",
    "\n",
    "div = 2\n",
    "while (div < num):\n",
    "    if(num % div == 0):\n",
    "        isDivisible = True\n",
    "        print(\"{} is divisible by {}\".format(num,div))\n",
    "        break\n",
    "    div += 1\n",
    "if isDivisible:\n",
    "    print(\"{} is not a prime no\".format(num))\n",
    "else:\n",
    "    print(\"{} is a prime no\".format(num))\n"
   ]
  },
  {
   "cell_type": "markdown",
   "id": "ce44ab5a",
   "metadata": {},
   "source": [
    "## Continue Statement"
   ]
  },
  {
   "cell_type": "code",
   "execution_count": 3,
   "id": "92a71f7a",
   "metadata": {},
   "outputs": [
    {
     "name": "stdout",
     "output_type": "stream",
     "text": [
      "1\n",
      "3\n",
      "5\n",
      "else block\n"
     ]
    }
   ],
   "source": [
    "numbers = [1,2,3,4,5]\n",
    "\n",
    "for num in numbers:\n",
    "    if num % 2 == 0:\n",
    "        continue\n",
    "    print(num)\n",
    "else:\n",
    "    print(\"else block\")"
   ]
  },
  {
   "cell_type": "code",
   "execution_count": null,
   "id": "82ff2133",
   "metadata": {},
   "outputs": [],
   "source": []
  }
 ],
 "metadata": {
  "kernelspec": {
   "display_name": "Python 3",
   "language": "python",
   "name": "python3"
  },
  "language_info": {
   "codemirror_mode": {
    "name": "ipython",
    "version": 3
   },
   "file_extension": ".py",
   "mimetype": "text/x-python",
   "name": "python",
   "nbconvert_exporter": "python",
   "pygments_lexer": "ipython3",
   "version": "3.8.10"
  }
 },
 "nbformat": 4,
 "nbformat_minor": 5
}
