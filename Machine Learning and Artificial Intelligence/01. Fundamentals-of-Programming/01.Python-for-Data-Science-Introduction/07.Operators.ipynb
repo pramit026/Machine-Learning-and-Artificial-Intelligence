{
 "cells": [
  {
   "cell_type": "markdown",
   "id": "6962ef16",
   "metadata": {},
   "source": [
    "Operator Types\n",
    "\n",
    "1. Arithmetic operators\n",
    "\n",
    "2. Comparison (Relational) operators\n",
    "\n",
    "3. Logical (Boolean) operators\n",
    "\n",
    "4. Bitwise operators\n",
    "\n",
    "5. Assignment operators\n",
    "\n",
    "6. Special operators"
   ]
  },
  {
   "cell_type": "markdown",
   "id": "a51ef25d",
   "metadata": {},
   "source": [
    "## Arithmetic Operators"
   ]
  },
  {
   "cell_type": "code",
   "execution_count": 1,
   "id": "daa127fd",
   "metadata": {},
   "outputs": [
    {
     "name": "stdout",
     "output_type": "stream",
     "text": [
      "30\n",
      "10\n",
      "200\n",
      "2.0\n",
      "0\n",
      "2\n",
      "10240000000000\n"
     ]
    }
   ],
   "source": [
    "y, x = 10, 20\n",
    "\n",
    "#addition\n",
    "print(x + y)\n",
    "\n",
    "#subtraction(-)\n",
    "print(x - y)\n",
    "\n",
    "#multiplication(*)\n",
    "print(x * y)\n",
    "\n",
    "#division(/)\n",
    "print(x / y)\n",
    "\n",
    "#modulo division (%)\n",
    "print(x % y)\n",
    "\n",
    "#Floor Division (//)\n",
    "print(x // y)\n",
    "\n",
    "#Exponent (**)\n",
    "print(x ** y)"
   ]
  },
  {
   "cell_type": "markdown",
   "id": "c45c681c",
   "metadata": {},
   "source": [
    "## Comparison Operators"
   ]
  },
  {
   "cell_type": "code",
   "execution_count": 2,
   "id": "ab03b70d",
   "metadata": {},
   "outputs": [
    {
     "name": "stdout",
     "output_type": "stream",
     "text": [
      "True\n",
      "False\n",
      "False\n",
      "True\n",
      "False\n",
      "True\n"
     ]
    }
   ],
   "source": [
    "a, b = 10, 20         \n",
    "\n",
    "print(a < b)  #check a is less than b\n",
    "\n",
    "#check a is greater than b\n",
    "print(a > b)\n",
    "\n",
    "#check a is equal to b\n",
    "print(a == b)\n",
    "\n",
    "#check a is not equal to b (!=)\n",
    "print(a != b)\n",
    "\n",
    "#check a greater than or equal to b\n",
    "print(a >= b)\n",
    "\n",
    "#check a less than or equal to b\n",
    "print(a <= b)"
   ]
  },
  {
   "cell_type": "markdown",
   "id": "12cf57b9",
   "metadata": {},
   "source": [
    "## Logical Operators"
   ]
  },
  {
   "cell_type": "code",
   "execution_count": 3,
   "id": "84c900d5",
   "metadata": {},
   "outputs": [
    {
     "name": "stdout",
     "output_type": "stream",
     "text": [
      "False\n",
      "True\n",
      "True\n"
     ]
    }
   ],
   "source": [
    "a, b = True, False\n",
    "\n",
    "#print a and b\n",
    "print(a and b)\n",
    "\n",
    "#print a or b\n",
    "print(a or b)\n",
    "\n",
    "#print not b\n",
    "print(not b)"
   ]
  },
  {
   "cell_type": "markdown",
   "id": "de23d130",
   "metadata": {},
   "source": [
    "## Bitwise Operators"
   ]
  },
  {
   "cell_type": "code",
   "execution_count": 4,
   "id": "e6d631ef",
   "metadata": {},
   "outputs": [
    {
     "name": "stdout",
     "output_type": "stream",
     "text": [
      "0\n",
      "14\n",
      "-5\n",
      "14\n",
      "0\n",
      "160\n"
     ]
    }
   ],
   "source": [
    "a, b = 10, 4\n",
    "\n",
    "#Bitwise AND\n",
    "print(a & b)\n",
    "\n",
    "#Bitwise OR\n",
    "print(a | b)\n",
    "\n",
    "#Bitwise NOT\n",
    "print(~ b)\n",
    "\n",
    "#Bitwise XOR\n",
    "print(a ^ b)\n",
    "\n",
    "#Bitwise rightshift\n",
    "print(a >> b)\n",
    "\n",
    "#Bitwise Leftshift\n",
    "print(a << b)"
   ]
  },
  {
   "cell_type": "markdown",
   "id": "32163694",
   "metadata": {},
   "source": [
    "## Assignment Operators"
   ]
  },
  {
   "cell_type": "code",
   "execution_count": 12,
   "id": "2f7842b3",
   "metadata": {},
   "outputs": [
    {
     "name": "stdout",
     "output_type": "stream",
     "text": [
      "20\n",
      "18\n",
      "36\n",
      "18.0\n",
      "0.0\n",
      "5\n",
      "25\n"
     ]
    }
   ],
   "source": [
    "a = 10\n",
    "\n",
    "a += 10         #add AND\n",
    "print(a)\n",
    "\n",
    "#subtract AND (-=)\n",
    "a -= 2\n",
    "print(a)\n",
    "\n",
    "#Multiply AND (*=)\n",
    "a *= 2\n",
    "print(a)\n",
    "\n",
    "#Divide AND (/=)\n",
    "a /= 2\n",
    "print(a)\n",
    "\n",
    "#Modulus AND (%=)\n",
    "a %= 2\n",
    "print(a)\n",
    "\n",
    "#Floor Division (//=)\n",
    "a = 10\n",
    "a //= 2\n",
    "print(a)\n",
    "\n",
    "#Exponent AND (**=)\n",
    "a **= 2\n",
    "print(a)"
   ]
  },
  {
   "cell_type": "markdown",
   "id": "918fcd42",
   "metadata": {},
   "source": [
    "## Special Operators"
   ]
  },
  {
   "cell_type": "markdown",
   "id": "5db0b474",
   "metadata": {},
   "source": [
    "### Identity Operators"
   ]
  },
  {
   "cell_type": "code",
   "execution_count": 13,
   "id": "5bbe3037",
   "metadata": {},
   "outputs": [
    {
     "name": "stdout",
     "output_type": "stream",
     "text": [
      "True\n"
     ]
    }
   ],
   "source": [
    "a = 5 \n",
    "b = 5\n",
    "\n",
    "print(a is b)"
   ]
  },
  {
   "cell_type": "code",
   "execution_count": 14,
   "id": "3ad2a97f",
   "metadata": {},
   "outputs": [
    {
     "name": "stdout",
     "output_type": "stream",
     "text": [
      "False\n"
     ]
    }
   ],
   "source": [
    "li1 = [1,2,3]\n",
    "li2 = [1,2,3]\n",
    "\n",
    "print(li1 is li2)"
   ]
  },
  {
   "cell_type": "code",
   "execution_count": 15,
   "id": "06d9934e",
   "metadata": {},
   "outputs": [
    {
     "name": "stdout",
     "output_type": "stream",
     "text": [
      "False\n"
     ]
    }
   ],
   "source": [
    "s1 = \"Pramit\"\n",
    "s2 = \"Pramit\"\n",
    "print(s1 is not s2)"
   ]
  },
  {
   "cell_type": "markdown",
   "id": "dd445527",
   "metadata": {},
   "source": [
    "## Membership Operator"
   ]
  },
  {
   "cell_type": "code",
   "execution_count": 17,
   "id": "3161bbd0",
   "metadata": {},
   "outputs": [
    {
     "name": "stdout",
     "output_type": "stream",
     "text": [
      "True\n"
     ]
    }
   ],
   "source": [
    "# in and not in are the membership op\n",
    "lst = [1,2,3,4]\n",
    "print(1 in lst)"
   ]
  },
  {
   "cell_type": "code",
   "execution_count": 18,
   "id": "d6fead4e",
   "metadata": {},
   "outputs": [
    {
     "name": "stdout",
     "output_type": "stream",
     "text": [
      "True\n"
     ]
    }
   ],
   "source": [
    "d = {1:'a', 2:'b'}\n",
    "print(1 in d)"
   ]
  },
  {
   "cell_type": "code",
   "execution_count": null,
   "id": "8f06be15",
   "metadata": {},
   "outputs": [],
   "source": []
  }
 ],
 "metadata": {
  "kernelspec": {
   "display_name": "Python 3",
   "language": "python",
   "name": "python3"
  },
  "language_info": {
   "codemirror_mode": {
    "name": "ipython",
    "version": 3
   },
   "file_extension": ".py",
   "mimetype": "text/x-python",
   "name": "python",
   "nbconvert_exporter": "python",
   "pygments_lexer": "ipython3",
   "version": "3.8.10"
  }
 },
 "nbformat": 4,
 "nbformat_minor": 5
}
