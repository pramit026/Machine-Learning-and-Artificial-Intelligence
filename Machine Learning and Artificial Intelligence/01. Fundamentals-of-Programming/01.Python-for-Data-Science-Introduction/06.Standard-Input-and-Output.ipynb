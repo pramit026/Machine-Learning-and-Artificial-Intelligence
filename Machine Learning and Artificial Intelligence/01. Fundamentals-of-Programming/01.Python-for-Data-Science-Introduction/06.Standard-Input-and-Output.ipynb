{
 "cells": [
  {
   "cell_type": "markdown",
   "id": "72b8838d",
   "metadata": {},
   "source": [
    "## Python Ouput"
   ]
  },
  {
   "cell_type": "code",
   "execution_count": 1,
   "id": "36295b01",
   "metadata": {},
   "outputs": [
    {
     "name": "stdout",
     "output_type": "stream",
     "text": [
      "Hello World\n"
     ]
    }
   ],
   "source": [
    "print(\"Hello World\")"
   ]
  },
  {
   "cell_type": "code",
   "execution_count": 4,
   "id": "5db4c423",
   "metadata": {},
   "outputs": [
    {
     "name": "stdout",
     "output_type": "stream",
     "text": [
      "The value of a is 10\n",
      "The value of a is 10\n"
     ]
    }
   ],
   "source": [
    "a = 10\n",
    "print(\"The value of a is\", a)\n",
    "print(\"The value of a is \" + str(a))"
   ]
  },
  {
   "cell_type": "markdown",
   "id": "8e2e27bb",
   "metadata": {},
   "source": [
    "## Output Formatting"
   ]
  },
  {
   "cell_type": "code",
   "execution_count": 5,
   "id": "5c3044ae",
   "metadata": {},
   "outputs": [
    {
     "name": "stdout",
     "output_type": "stream",
     "text": [
      "The value of a is 10 and b is 20\n"
     ]
    }
   ],
   "source": [
    "a = 10 ; b = 20\n",
    "\n",
    "print(\"The value of a is {} and b is {}\".format(a,b))"
   ]
  },
  {
   "cell_type": "code",
   "execution_count": 6,
   "id": "b29bb5fa",
   "metadata": {},
   "outputs": [
    {
     "name": "stdout",
     "output_type": "stream",
     "text": [
      "The value of a is 20 and b is 10\n"
     ]
    }
   ],
   "source": [
    "a = 10 ; b = 20\n",
    "\n",
    "print(\"The value of a is {1} and b is {0}\".format(a,b))"
   ]
  },
  {
   "cell_type": "code",
   "execution_count": 8,
   "id": "ace1cab2",
   "metadata": {},
   "outputs": [
    {
     "name": "stdout",
     "output_type": "stream",
     "text": [
      "Hello Pramit, Good Morning\n"
     ]
    }
   ],
   "source": [
    "#we can use keyword arguments to format the string\n",
    "print(\"Hello {name}, {greeting}\".format(name=\"Pramit\",greeting=\"Good Morning\"))"
   ]
  },
  {
   "cell_type": "code",
   "execution_count": 9,
   "id": "dada9232",
   "metadata": {},
   "outputs": [
    {
     "name": "stdout",
     "output_type": "stream",
     "text": [
      "The story of Bill, Nas, and Elon\n"
     ]
    }
   ],
   "source": [
    "print(\"The story of {0}, {1}, and {other}\".format(\"Bill\",\"Nas\", other=\"Elon\"))"
   ]
  },
  {
   "cell_type": "markdown",
   "id": "018f8dc6",
   "metadata": {},
   "source": [
    "## Python Input"
   ]
  },
  {
   "cell_type": "code",
   "execution_count": 10,
   "id": "f7797a26",
   "metadata": {},
   "outputs": [
    {
     "name": "stdout",
     "output_type": "stream",
     "text": [
      "Enter a number10\n",
      "10\n"
     ]
    }
   ],
   "source": [
    "num = input(\"Enter a number\")\n",
    "print(num)"
   ]
  },
  {
   "cell_type": "code",
   "execution_count": null,
   "id": "4836fee4",
   "metadata": {},
   "outputs": [],
   "source": []
  }
 ],
 "metadata": {
  "kernelspec": {
   "display_name": "Python 3",
   "language": "python",
   "name": "python3"
  },
  "language_info": {
   "codemirror_mode": {
    "name": "ipython",
    "version": 3
   },
   "file_extension": ".py",
   "mimetype": "text/x-python",
   "name": "python",
   "nbconvert_exporter": "python",
   "pygments_lexer": "ipython3",
   "version": "3.8.10"
  }
 },
 "nbformat": 4,
 "nbformat_minor": 5
}
