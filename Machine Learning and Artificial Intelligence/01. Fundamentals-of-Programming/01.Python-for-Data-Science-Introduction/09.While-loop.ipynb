{
 "cells": [
  {
   "cell_type": "code",
   "execution_count": 1,
   "id": "bbeb082b",
   "metadata": {},
   "outputs": [
    {
     "name": "stdout",
     "output_type": "stream",
     "text": [
      "Product is: 14400000\n"
     ]
    }
   ],
   "source": [
    "# find product of all numbers present in a list\n",
    "\n",
    "lst = [10,20,30,40,60]\n",
    "\n",
    "product = 1\n",
    "index = 0\n",
    "while(index < len(lst)):\n",
    "    product *= lst[index]\n",
    "    index += 1\n",
    "    \n",
    "print(\"Product is: {}\".format(product))"
   ]
  },
  {
   "cell_type": "markdown",
   "id": "5704d879",
   "metadata": {},
   "source": [
    "## while loop with else"
   ]
  },
  {
   "cell_type": "code",
   "execution_count": 2,
   "id": "5e32e847",
   "metadata": {},
   "outputs": [
    {
     "name": "stdout",
     "output_type": "stream",
     "text": [
      "1\n",
      "2\n",
      "3\n",
      "4\n",
      "5\n",
      "no items left in the list\n"
     ]
    }
   ],
   "source": [
    "numbers = [1,2,3,4,5]\n",
    "\n",
    "# iterating over the list\n",
    "index = 0\n",
    "while index < len(numbers):\n",
    "    print(numbers[index])\n",
    "    index += 1\n",
    "    \n",
    "else:\n",
    "    print(\"no items left in the list\")"
   ]
  },
  {
   "cell_type": "markdown",
   "id": "f5ad879a",
   "metadata": {},
   "source": [
    "## Python Program to check given number is Prime number or not"
   ]
  },
  {
   "cell_type": "code",
   "execution_count": 4,
   "id": "ecc1f4d9",
   "metadata": {},
   "outputs": [
    {
     "name": "stdout",
     "output_type": "stream",
     "text": [
      "Enter a number: 5\n",
      "5 is a prime no\n"
     ]
    }
   ],
   "source": [
    "num = int(input(\"Enter a number: \"))\n",
    "\n",
    "isDivisible = False\n",
    "div = 2\n",
    "while(div < num):\n",
    "    if(num % div == 0):\n",
    "        isDivisible = True\n",
    "        print(\"{} is divisible by {}\".format(num,i))\n",
    "    div += 1\n",
    "if isDivisible:\n",
    "    print(\"{} is not a prime no\".format(num))\n",
    "else:\n",
    "    print(\"{} is a prime no\".format(num))"
   ]
  },
  {
   "cell_type": "code",
   "execution_count": null,
   "id": "35d10fe3",
   "metadata": {},
   "outputs": [],
   "source": []
  }
 ],
 "metadata": {
  "kernelspec": {
   "display_name": "Python 3",
   "language": "python",
   "name": "python3"
  },
  "language_info": {
   "codemirror_mode": {
    "name": "ipython",
    "version": 3
   },
   "file_extension": ".py",
   "mimetype": "text/x-python",
   "name": "python",
   "nbconvert_exporter": "python",
   "pygments_lexer": "ipython3",
   "version": "3.8.10"
  }
 },
 "nbformat": 4,
 "nbformat_minor": 5
}
