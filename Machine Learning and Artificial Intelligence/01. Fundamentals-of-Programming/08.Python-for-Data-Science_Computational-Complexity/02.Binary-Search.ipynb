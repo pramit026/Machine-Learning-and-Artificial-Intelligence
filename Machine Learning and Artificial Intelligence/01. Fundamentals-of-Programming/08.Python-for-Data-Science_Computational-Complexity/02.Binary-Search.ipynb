{
 "cells": [
  {
   "cell_type": "code",
   "execution_count": 1,
   "id": "a831422b",
   "metadata": {},
   "outputs": [
    {
     "data": {
      "text/plain": [
       "[87,\n",
       " 30,\n",
       " 37,\n",
       " 10,\n",
       " 5,\n",
       " 80,\n",
       " 58,\n",
       " 6,\n",
       " 53,\n",
       " 17,\n",
       " 35,\n",
       " 82,\n",
       " 74,\n",
       " 13,\n",
       " 97,\n",
       " 72,\n",
       " 19,\n",
       " 50,\n",
       " 20,\n",
       " 94,\n",
       " 65,\n",
       " 24,\n",
       " 86,\n",
       " 7,\n",
       " 28,\n",
       " 36,\n",
       " 0,\n",
       " 47,\n",
       " 93,\n",
       " 34,\n",
       " 92,\n",
       " 1,\n",
       " 12,\n",
       " 60,\n",
       " 8,\n",
       " 69,\n",
       " 75,\n",
       " 14,\n",
       " 51,\n",
       " 98,\n",
       " 29,\n",
       " 41,\n",
       " 46,\n",
       " 21,\n",
       " 67,\n",
       " 54,\n",
       " 62,\n",
       " 61,\n",
       " 85,\n",
       " 89,\n",
       " 9,\n",
       " 25,\n",
       " 68,\n",
       " 43,\n",
       " 77,\n",
       " 18,\n",
       " 96,\n",
       " 59,\n",
       " 78,\n",
       " 70,\n",
       " 84,\n",
       " 31,\n",
       " 71,\n",
       " 57,\n",
       " 27,\n",
       " 26,\n",
       " 15,\n",
       " 32,\n",
       " 16,\n",
       " 81,\n",
       " 88,\n",
       " 63,\n",
       " 48,\n",
       " 22,\n",
       " 56,\n",
       " 42,\n",
       " 33,\n",
       " 73,\n",
       " 23,\n",
       " 2,\n",
       " 79,\n",
       " 66,\n",
       " 11,\n",
       " 90,\n",
       " 45,\n",
       " 4,\n",
       " 44,\n",
       " 91,\n",
       " 99,\n",
       " 39,\n",
       " 76,\n",
       " 95,\n",
       " 40,\n",
       " 38,\n",
       " 52,\n",
       " 49,\n",
       " 3,\n",
       " 83,\n",
       " 64,\n",
       " 55]"
      ]
     },
     "execution_count": 1,
     "metadata": {},
     "output_type": "execute_result"
    }
   ],
   "source": [
    "import numpy as np\n",
    "import random\n",
    "\n",
    "l = list(range(100))\n",
    "random.shuffle(l)\n",
    "l"
   ]
  },
  {
   "cell_type": "code",
   "execution_count": 2,
   "id": "06912118",
   "metadata": {},
   "outputs": [],
   "source": [
    "# what if the list is sorted ? we can use binary search\n",
    "import math\n",
    "\n",
    "def binarySearch(li,si,ei,x):\n",
    "    # check base case\n",
    "    if ei >= si:\n",
    "        mid = si + math.floor((ei - si)/2)\n",
    "        \n",
    "        if (li[mid] == x):\n",
    "            return mid\n",
    "        elif (li[mid] > x):\n",
    "            return binarySearch(li,si,mid - 1, x)\n",
    "        else:\n",
    "            return binarySearch(li,mid + 1, ei, x)\n",
    "    else:\n",
    "        return -1"
   ]
  },
  {
   "cell_type": "code",
   "execution_count": 3,
   "id": "a6d0072c",
   "metadata": {},
   "outputs": [
    {
     "data": {
      "text/plain": [
       "31"
      ]
     },
     "execution_count": 3,
     "metadata": {},
     "output_type": "execute_result"
    }
   ],
   "source": [
    "l.sort()\n",
    "li = l\n",
    "q = 31\n",
    "binarySearch(li,0,len(li)-1,q)"
   ]
  },
  {
   "cell_type": "code",
   "execution_count": null,
   "id": "ada520bc",
   "metadata": {},
   "outputs": [],
   "source": []
  }
 ],
 "metadata": {
  "kernelspec": {
   "display_name": "Python 3 (ipykernel)",
   "language": "python",
   "name": "python3"
  },
  "language_info": {
   "codemirror_mode": {
    "name": "ipython",
    "version": 3
   },
   "file_extension": ".py",
   "mimetype": "text/x-python",
   "name": "python",
   "nbconvert_exporter": "python",
   "pygments_lexer": "ipython3",
   "version": "3.9.7"
  }
 },
 "nbformat": 4,
 "nbformat_minor": 5
}
