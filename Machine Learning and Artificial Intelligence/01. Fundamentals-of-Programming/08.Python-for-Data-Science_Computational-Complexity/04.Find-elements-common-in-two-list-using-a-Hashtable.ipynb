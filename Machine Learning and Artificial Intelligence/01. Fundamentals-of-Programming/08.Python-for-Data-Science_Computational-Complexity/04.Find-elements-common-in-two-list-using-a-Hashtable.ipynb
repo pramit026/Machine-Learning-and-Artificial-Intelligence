{
 "cells": [
  {
   "cell_type": "code",
   "execution_count": 1,
   "id": "5187e42a",
   "metadata": {},
   "outputs": [],
   "source": [
    "import numpy as np\n",
    "import random"
   ]
  },
  {
   "cell_type": "code",
   "execution_count": 3,
   "id": "42eb5de0",
   "metadata": {},
   "outputs": [
    {
     "name": "stdout",
     "output_type": "stream",
     "text": [
      "39\n",
      "6\n",
      "3\n",
      "5\n",
      "30\n",
      "0\n",
      "24\n",
      "28\n",
      "44\n",
      "4\n",
      "36\n",
      "38\n",
      "7\n",
      "47\n",
      "26\n",
      "22\n",
      "33\n",
      "12\n",
      "16\n",
      "23\n",
      "46\n",
      "29\n",
      "21\n",
      "37\n",
      "49\n",
      "48\n",
      "2\n",
      "1\n",
      "42\n",
      "32\n",
      "11\n",
      "10\n",
      "27\n",
      "31\n",
      "15\n",
      "43\n",
      "34\n",
      "19\n",
      "20\n",
      "45\n",
      "9\n",
      "8\n",
      "25\n",
      "35\n",
      "18\n",
      "41\n",
      "14\n",
      "17\n",
      "40\n",
      "13\n",
      "Number of common elements:  50\n"
     ]
    }
   ],
   "source": [
    "li1 = list(range(100))\n",
    "random.shuffle(li1)\n",
    "\n",
    "li2 = list(range(50))\n",
    "random.shuffle(li2)\n",
    "\n",
    "# add element in the smallest list into a hash table / dictionary: O(m) space\n",
    "smallest = {}\n",
    "for ele in li2:\n",
    "    smallest[ele] = 1;\n",
    "    \n",
    "# now find common element\n",
    "count = 0\n",
    "for i in li1:\n",
    "    if smallest.get(i) != None:\n",
    "        print(i)\n",
    "        count += 1\n",
    "print(\"Number of common elements: \",count)"
   ]
  },
  {
   "cell_type": "code",
   "execution_count": null,
   "id": "9e613c7c",
   "metadata": {},
   "outputs": [],
   "source": []
  }
 ],
 "metadata": {
  "kernelspec": {
   "display_name": "Python 3 (ipykernel)",
   "language": "python",
   "name": "python3"
  },
  "language_info": {
   "codemirror_mode": {
    "name": "ipython",
    "version": 3
   },
   "file_extension": ".py",
   "mimetype": "text/x-python",
   "name": "python",
   "nbconvert_exporter": "python",
   "pygments_lexer": "ipython3",
   "version": "3.9.7"
  }
 },
 "nbformat": 4,
 "nbformat_minor": 5
}
