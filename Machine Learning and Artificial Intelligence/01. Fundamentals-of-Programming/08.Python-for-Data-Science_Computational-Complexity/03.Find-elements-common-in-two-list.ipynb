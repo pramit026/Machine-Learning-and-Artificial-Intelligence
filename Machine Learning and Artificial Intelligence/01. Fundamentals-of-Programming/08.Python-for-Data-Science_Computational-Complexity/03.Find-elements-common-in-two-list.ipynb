{
 "cells": [
  {
   "cell_type": "code",
   "execution_count": 1,
   "id": "33f1c202",
   "metadata": {},
   "outputs": [],
   "source": [
    "import numpy as np\n",
    "import random"
   ]
  },
  {
   "cell_type": "code",
   "execution_count": 2,
   "id": "6e0886c2",
   "metadata": {},
   "outputs": [
    {
     "name": "stdout",
     "output_type": "stream",
     "text": [
      "12\n",
      "46\n",
      "37\n",
      "2\n",
      "29\n",
      "7\n",
      "34\n",
      "40\n",
      "8\n",
      "35\n",
      "42\n",
      "18\n",
      "5\n",
      "13\n",
      "21\n",
      "47\n",
      "48\n",
      "32\n",
      "11\n",
      "26\n",
      "28\n",
      "44\n",
      "49\n",
      "22\n",
      "36\n",
      "41\n",
      "9\n",
      "15\n",
      "45\n",
      "31\n",
      "25\n",
      "14\n",
      "38\n",
      "16\n",
      "33\n",
      "20\n",
      "24\n",
      "43\n",
      "39\n",
      "4\n",
      "27\n",
      "0\n",
      "19\n",
      "10\n",
      "23\n",
      "1\n",
      "17\n",
      "3\n",
      "30\n",
      "6\n",
      "No of common elements:  50\n"
     ]
    }
   ],
   "source": [
    "li1 = list(range(100))\n",
    "random.shuffle(li1)\n",
    "\n",
    "li2 = list(range(50))\n",
    "random.shuffle(li2)\n",
    "\n",
    "# find common element : O(n*m)\n",
    "count = 0\n",
    "for i in li1:\n",
    "    for j in li2:\n",
    "        if(i == j):\n",
    "            print(i)\n",
    "            count += 1\n",
    "            \n",
    "print(\"No of common elements: \",count)"
   ]
  },
  {
   "cell_type": "code",
   "execution_count": null,
   "id": "cef22a00",
   "metadata": {},
   "outputs": [],
   "source": []
  }
 ],
 "metadata": {
  "kernelspec": {
   "display_name": "Python 3 (ipykernel)",
   "language": "python",
   "name": "python3"
  },
  "language_info": {
   "codemirror_mode": {
    "name": "ipython",
    "version": 3
   },
   "file_extension": ".py",
   "mimetype": "text/x-python",
   "name": "python",
   "nbconvert_exporter": "python",
   "pygments_lexer": "ipython3",
   "version": "3.9.7"
  }
 },
 "nbformat": 4,
 "nbformat_minor": 5
}
